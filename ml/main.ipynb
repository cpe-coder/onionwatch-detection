{
 "cells": [
  {
   "cell_type": "code",
   "execution_count": null,
   "id": "d79dbbf3-8441-4489-97dd-4ddd5e9dc0dc",
   "metadata": {},
   "outputs": [],
   "source": []
  }
 ],
 "metadata": {
  "kernelspec": {
   "display_name": "",
   "name": ""
  },
  "language_info": {
   "name": ""
  }
 },
 "nbformat": 4,
 "nbformat_minor": 5
}
